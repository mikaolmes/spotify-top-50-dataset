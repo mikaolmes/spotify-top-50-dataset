{
 "cells": [
  {
   "cell_type": "markdown",
   "metadata": {},
   "source": [
    "# 3.1 Teilen Sie Ihren Datensatz in einen test- und einen train-satz ein\n",
    "\n",
    "In diesem Abschnitt lade ich meinen Datensatz und gebe die Features und Targets an. <br>\n",
    "Zudem teile ich noch meine Daten in Trainingsdaten und Testdaten."
   ]
  },
  {
   "cell_type": "code",
   "execution_count": 33,
   "metadata": {},
   "outputs": [
    {
     "name": "stdout",
     "output_type": "stream",
     "text": [
      "Trainingsdaten:  (44999, 10)\n",
      "Testdaten:  (5000, 10)\n"
     ]
    }
   ],
   "source": [
    "import pandas as pd\n",
    "from sklearn.model_selection import train_test_split\n",
    "from sklearn.ensemble import RandomForestRegressor\n",
    "from sklearn.metrics import mean_squared_error\n",
    "\n",
    "# 1. Laden des Datensatzes\n",
    "df = pd.read_excel('Top_spotify_songs-entire.xlsx')\n",
    "\n",
    "# 2. Eingabefelder (Features) und Zielvariable (Label) definieren\n",
    "X = df[['danceability', 'energy', 'key', 'loudness', 'mode', 'speechiness', 'acousticness', 'liveness', 'valence', 'tempo']]\n",
    "y = df['popularity']\n",
    "\n",
    "# 3. Aufteilen in 80% Trainingsdaten und 20% Testdaten\n",
    "X_train, X_test, y_train, y_test = train_test_split(X, y, test_size=0.1, random_state=42)\n",
    "\n",
    "print(\"Trainingsdaten: \", X_train.shape)\n",
    "print(\"Testdaten: \", X_test.shape)"
   ]
  },
  {
   "cell_type": "markdown",
   "metadata": {},
   "source": [
    "# 3.2 Modell auswählen und Trainieren\n",
    "\n",
    "Ich habe das Modell RandomForestRegressor genommen.\n",
    "\n",
    "### Begründung:\n",
    "- Random Forest kombiniert viele Entscheidungsbäume und erzielt dadurch eine hohe Vorhersagegenauigkeit.\n",
    "- Er ist robust gegenüber Rauschen in den Trainingsdaten.\n",
    "- Er kann komplexe Zusammenhänge in den Daten gut modellieren, ohne dass starke Annahmen über die Verteilung gemacht werden müssen.\n",
    "- Durch die Aggregation vieler Bäume werden einzelne Fehler einzelner Modelle ausgeglichen.\n",
    "- Er ist flexibel einsetzbar und liefert oft gute Ergebnisse auch ohne aufwendige Hyperparameter-Optimierung.\n",
    "\n",
    "Dazu habe ich das Modell trainniert, damit es bessere Voerhersagungen treffen kann."
   ]
  },
  {
   "cell_type": "code",
   "execution_count": 34,
   "metadata": {},
   "outputs": [
    {
     "name": "stdout",
     "output_type": "stream",
     "text": [
      "Modelltraining abgeschlossen.\n"
     ]
    }
   ],
   "source": [
    "# 4. Initialisieren des Random Forest Regressor Modells\n",
    "model = RandomForestRegressor(random_state=42)  # Geändert zu RandomForestRegressor\n",
    "\n",
    "# 5. Training des Modells\n",
    "model.fit(X_train, y_train)\n",
    "\n",
    "print(\"Modelltraining abgeschlossen.\")"
   ]
  },
  {
   "cell_type": "markdown",
   "metadata": {},
   "source": [
    "# 3.3 Vorhersagungen testen\n",
    "\n",
    "In diesem Abschnitt habe ich die Vorhersagungen auf Richtigkeit geprüft. <br>"
   ]
  },
  {
   "cell_type": "code",
   "execution_count": 35,
   "metadata": {},
   "outputs": [
    {
     "data": {
      "text/html": [
       "<div>\n",
       "<style scoped>\n",
       "    .dataframe tbody tr th:only-of-type {\n",
       "        vertical-align: middle;\n",
       "    }\n",
       "\n",
       "    .dataframe tbody tr th {\n",
       "        vertical-align: top;\n",
       "    }\n",
       "\n",
       "    .dataframe thead th {\n",
       "        text-align: right;\n",
       "    }\n",
       "</style>\n",
       "<table border=\"1\" class=\"dataframe\">\n",
       "  <thead>\n",
       "    <tr style=\"text-align: right;\">\n",
       "      <th></th>\n",
       "      <th>Tatsächliche Popularität</th>\n",
       "      <th>Vorhergesagte Popularität</th>\n",
       "    </tr>\n",
       "  </thead>\n",
       "  <tbody>\n",
       "    <tr>\n",
       "      <th>0</th>\n",
       "      <td>83</td>\n",
       "      <td>82.636875</td>\n",
       "    </tr>\n",
       "    <tr>\n",
       "      <th>1</th>\n",
       "      <td>84</td>\n",
       "      <td>84.485176</td>\n",
       "    </tr>\n",
       "    <tr>\n",
       "      <th>2</th>\n",
       "      <td>85</td>\n",
       "      <td>86.681964</td>\n",
       "    </tr>\n",
       "    <tr>\n",
       "      <th>3</th>\n",
       "      <td>91</td>\n",
       "      <td>91.071918</td>\n",
       "    </tr>\n",
       "    <tr>\n",
       "      <th>4</th>\n",
       "      <td>95</td>\n",
       "      <td>94.879468</td>\n",
       "    </tr>\n",
       "    <tr>\n",
       "      <th>5</th>\n",
       "      <td>79</td>\n",
       "      <td>82.236548</td>\n",
       "    </tr>\n",
       "    <tr>\n",
       "      <th>6</th>\n",
       "      <td>92</td>\n",
       "      <td>91.931701</td>\n",
       "    </tr>\n",
       "    <tr>\n",
       "      <th>7</th>\n",
       "      <td>100</td>\n",
       "      <td>98.934485</td>\n",
       "    </tr>\n",
       "    <tr>\n",
       "      <th>8</th>\n",
       "      <td>96</td>\n",
       "      <td>96.066346</td>\n",
       "    </tr>\n",
       "    <tr>\n",
       "      <th>9</th>\n",
       "      <td>87</td>\n",
       "      <td>86.451240</td>\n",
       "    </tr>\n",
       "  </tbody>\n",
       "</table>\n",
       "</div>"
      ],
      "text/plain": [
       "   Tatsächliche Popularität  Vorhergesagte Popularität\n",
       "0                        83                  82.636875\n",
       "1                        84                  84.485176\n",
       "2                        85                  86.681964\n",
       "3                        91                  91.071918\n",
       "4                        95                  94.879468\n",
       "5                        79                  82.236548\n",
       "6                        92                  91.931701\n",
       "7                       100                  98.934485\n",
       "8                        96                  96.066346\n",
       "9                        87                  86.451240"
      ]
     },
     "execution_count": 35,
     "metadata": {},
     "output_type": "execute_result"
    }
   ],
   "source": [
    "# 6. Vorhersagen generieren\n",
    "y_pred = model.predict(X_test)  # Keine Klassen, sondern numerische Werte\n",
    "\n",
    "# 7. Anzeigen einiger Vorhersagen im Vergleich zu den tatsächlichen Werten\n",
    "comparison = pd.DataFrame({'Tatsächliche Popularität': y_test.values, 'Vorhergesagte Popularität': y_pred}) # Angepasst\n",
    "comparison.head(10)"
   ]
  },
  {
   "cell_type": "markdown",
   "metadata": {},
   "source": [
    "## Mean Squared Error und R²\n",
    "\n",
    "In diesem Abschnitt habe ich die Richtigkeit der Vorhersagungen mit Zahlen dargestellt.\n",
    "\n",
    "### Kennzahlen\n",
    "- **Mean Squared Error (MSE):**  \n",
    "  Misst den durchschnittlichen quadratischen Fehler zwischen den vorhergesagten und den tatsächlichen Werten. Je kleiner der MSE, desto besser passt   das Modell.\n",
    "\n",
    "- **Bestimmtheitsmass (R²):**  \n",
    "  Gibt an, wie gut die Varianz der Zielvariable durch das Modell erklärt wird. Ein R² von 1 bedeutet perfekte Vorhersage, ein R² von 0 bedeutet, dass das Modell nicht besser ist als ein einfacher Mittelwert.\n",
    "\n",
    "### Bewertung der Kennzahlen\n",
    "\n",
    "- **Mean Squared Error (MSE):**  \n",
    "  Ein MSE von 0 wäre perfekt und bedeutet, dass keine Fehler in den Vorhersagungen gemacht wurden. Mein Modell erreicht einen MSE von 29.21, was auf eine insgesamt gute Vorhersagequalität hinweist. Umso kleiner die Werte, umso besser, und 29.21 ist für diesen Anwendungsfall in Ordnung.\n",
    "\n",
    "- **Bestimmtheitsmaß (R²):**  \n",
    "  Ein R² von 1.00 entspricht einer perfekten Modellanpassung. Mein Modell erreicht ein R² von 0.88, was bedeutet, dass 88% der Hervorsagungen richtig waren.\n"
   ]
  },
  {
   "cell_type": "code",
   "execution_count": 37,
   "metadata": {},
   "outputs": [
    {
     "name": "stdout",
     "output_type": "stream",
     "text": [
      "Mean Squared Error: 29.21\n",
      "Bestimmtheitsmass (R²): 0.88\n"
     ]
    }
   ],
   "source": [
    "from sklearn.metrics import mean_squared_error, r2_score\n",
    "\n",
    "mse = mean_squared_error(y_test, y_pred)\n",
    "r2 = r2_score(y_test, y_pred)\n",
    "\n",
    "print(f\"Mean Squared Error: {mse:.2f}\")\n",
    "print(f\"Bestimmtheitsmass (R²): {r2:.2f}\")\n"
   ]
  }
 ],
 "metadata": {
  "kernelspec": {
   "display_name": "Python 3 (ipykernel)",
   "language": "python",
   "name": "python3"
  },
  "language_info": {
   "codemirror_mode": {
    "name": "ipython",
    "version": 3
   },
   "file_extension": ".py",
   "mimetype": "text/x-python",
   "name": "python",
   "nbconvert_exporter": "python",
   "pygments_lexer": "ipython3",
   "version": "3.9.13"
  }
 },
 "nbformat": 4,
 "nbformat_minor": 4
}
