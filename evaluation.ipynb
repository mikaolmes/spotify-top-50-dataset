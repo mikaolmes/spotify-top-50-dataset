{
 "cells": [
  {
   "cell_type": "markdown",
   "metadata": {},
   "source": [
    "# 4.1 Aussagekräftige Felder"
   ]
  },
  {
   "cell_type": "code",
   "execution_count": 25,
   "metadata": {},
   "outputs": [
    {
     "name": "stdout",
     "output_type": "stream",
     "text": [
      "        Feature  Importance\n",
      "3      loudness    0.200967\n",
      "5   speechiness    0.130911\n",
      "6  acousticness    0.117851\n",
      "8       valence    0.115796\n",
      "9         tempo    0.110517\n",
      "1        energy    0.099459\n",
      "0  danceability    0.096253\n",
      "7      liveness    0.070296\n",
      "2           key    0.044726\n",
      "4          mode    0.013225\n"
     ]
    }
   ],
   "source": [
    "from sklearn.ensemble import RandomForestRegressor\n",
    "import pandas as pd\n",
    "\n",
    "# Datensatz laden\n",
    "df = pd.read_excel('Top_spotify_songs-entire.xlsx')\n",
    "\n",
    "# Eingabefelder (Features) und Zielvariable (Target) definieren\n",
    "X = df[['danceability', 'energy', 'key', 'loudness', 'mode', 'speechiness', 'acousticness', 'liveness', 'valence', 'tempo']]\n",
    "y = df['popularity']\n",
    "\n",
    "# Random-Forest-Modell trainieren, um Feature-Bedeutungen zu bestimmen\n",
    "model = RandomForestRegressor(random_state=42)\n",
    "model.fit(X, y)\n",
    "\n",
    "# Wichtigkeit der Features extrahieren und sortieren\n",
    "importances = model.feature_importances_\n",
    "feature_names = X.columns\n",
    "feature_importances = pd.DataFrame({'Feature': feature_names, 'Importance': importances})\n",
    "feature_importances = feature_importances.sort_values(by='Importance', ascending=False)\n",
    "\n",
    "# Ergebnisse anzeigen\n",
    "print(feature_importances)"
   ]
  },
  {
   "cell_type": "markdown",
   "metadata": {},
   "source": [
    "# 4.2: Messmatrik berechnen"
   ]
  },
  {
   "cell_type": "code",
   "execution_count": 26,
   "metadata": {},
   "outputs": [
    {
     "name": "stdout",
     "output_type": "stream",
     "text": [
      "Accuracy (Genauigkeit): 0.9852\n",
      "F1-Mass: 0.9922\n"
     ]
    }
   ],
   "source": [
    "from sklearn.ensemble import RandomForestClassifier\n",
    "from sklearn.metrics import confusion_matrix, accuracy_score, f1_score, mean_squared_error, r2_score\n",
    "from sklearn.model_selection import train_test_split\n",
    "import pandas as pd\n",
    "\n",
    "# Datensatz laden\n",
    "df = pd.read_excel('Top_spotify_songs-entire.xlsx')\n",
    "\n",
    "# Eingabefelder (Features) und Zielvariable (Target) definieren\n",
    "X = df[['danceability', 'energy', 'key', 'loudness', 'mode', 'speechiness', 'acousticness', 'liveness', 'valence', 'tempo']]\n",
    "\n",
    "# Zielvariable kategorisieren: 0 = nicht beliebt, 1 = beliebt\n",
    "threshold = 50\n",
    "y = (df['popularity'] >= threshold).astype(int)\n",
    "\n",
    "# Daten in Trainings- und Testdaten aufteilen\n",
    "X_train, X_test, y_train, y_test = train_test_split(X, y, test_size=0.1, random_state=42)\n",
    "\n",
    "# Klassifikationsmodell initialisieren und trainieren\n",
    "model = RandomForestClassifier(random_state=42)\n",
    "model.fit(X_train, y_train)\n",
    "\n",
    "# Vorhersagen generieren\n",
    "y_pred = model.predict(X_test)\n",
    "\n",
    "# Metriken berechnen\n",
    "accuracy = accuracy_score(y_test, y_pred)\n",
    "f1 = f1_score(y_test, y_pred)\n",
    "\n",
    "# Ergebnisse anzeigen\n",
    "print(f\"Accuracy (Genauigkeit): {accuracy:.4f}\")\n",
    "print(f\"F1-Mass: {f1:.4f}\")"
   ]
  },
  {
   "cell_type": "markdown",
   "metadata": {},
   "source": [
    "# 4.3: Wahrheitsmatrix, Sensitivität und Spezifität"
   ]
  },
  {
   "cell_type": "code",
   "execution_count": 27,
   "metadata": {},
   "outputs": [
    {
     "name": "stdout",
     "output_type": "stream",
     "text": [
      "Wahrheitsmatrix:\n",
      "[[ 220   55]\n",
      " [  19 4706]]\n",
      "True Positives (TP): 4706\n",
      "True Negatives (TN): 220\n",
      "False Positives (FP): 55\n",
      "False Negatives (FN): 19\n",
      "Recall: 0.99598\n",
      "Precision: 0.98845\n"
     ]
    },
    {
     "data": {
      "image/png": "[encoded data removed]",
      "text/plain": [
       "<Figure size 640x480 with 2 Axes>"
      ]
     },
     "metadata": {},
     "output_type": "display_data"
    }
   ],
   "source": [
    "import pandas as pd\n",
    "from sklearn.model_selection import train_test_split\n",
    "from sklearn.ensemble import RandomForestClassifier\n",
    "from sklearn.metrics import confusion_matrix, ConfusionMatrixDisplay, precision_score, recall_score, f1_score\n",
    "\n",
    "# Datensatz laden\n",
    "df = pd.read_excel('Top_spotify_songs-entire.xlsx')\n",
    "\n",
    "# Eingabefelder (Features) und Zielvariable (Target) definieren\n",
    "X = df[['danceability', 'energy', 'key', 'loudness', 'mode', 'speechiness', 'acousticness', 'liveness', 'valence', 'tempo']]\n",
    "\n",
    "# Zielvariable (0 = nicht beliebt, 1 = beliebt)\n",
    "threshold = 50\n",
    "y = (df['popularity'] >= threshold).astype(int)\n",
    "\n",
    "# Aufteilen in Trainings- und Testdaten\n",
    "X_train, X_test, y_train, y_test = train_test_split(X, y, test_size=0.1, random_state=42)\n",
    "\n",
    "# Random Forest Classifier Modell initialisieren und trainieren\n",
    "model = RandomForestClassifier(random_state=42)\n",
    "model.fit(X_train, y_train)\n",
    "\n",
    "# Vorhersagen generieren\n",
    "y_pred = model.predict(X_test)\n",
    "\n",
    "# Wahrheitsmatrix berechnen\n",
    "cm = confusion_matrix(y_test, y_pred)\n",
    "tn, fp, fn, tp = cm.ravel()  # True Negative, False Positive, False Negative, True Positive\n",
    "\n",
    "# Wahrheitsmatrix visualisieren\n",
    "disp = ConfusionMatrixDisplay(confusion_matrix=cm, display_labels=['Nicht beliebt', 'Beliebt'])\n",
    "disp.plot()\n",
    "\n",
    "# Metriken berechnen\n",
    "recall = recall_score(y_test, y_pred)  # Sensitivität\n",
    "precision = precision_score(y_test, y_pred)  # Spezifität\n",
    "\n",
    "# Wahrheitsmatrix berechnen\n",
    "cm = confusion_matrix(y_test, y_pred)\n",
    "tn, fp, fn, tp = cm.ravel()\n",
    "\n",
    "# Ergebnisse anzeigen\n",
    "print(\"Wahrheitsmatrix:\")\n",
    "print(cm)\n",
    "print(f\"True Positives (TP): {tp}\")\n",
    "print(f\"True Negatives (TN): {tn}\")\n",
    "print(f\"False Positives (FP): {fp}\")\n",
    "print(f\"False Negatives (FN): {fn}\")\n",
    "print(f\"Recall: {recall:.5f}\")\n",
    "print(f\"Precision: {precision:.5f}\")"
   ]
  },
  {
   "cell_type": "markdown",
   "metadata": {},
   "source": [
    "# 4.4 Zusammenfassung\n",
    "\n",
    "Das Modell zeigt eine solide Leistung in der Klassifikation von Songs als \"beliebt\" oder \"nicht beliebt\". Mit einer **Accuracy** von 98% und einem **F1-Score** von 99% erreicht es eine gute Balance zwischen Präzision und Sensitivität. Die wichtigsten Features wie **loudness**, **speechiness** und **acousticness** tragen massgeblich zur Vorhersage bei. \n",
    "\n",
    "**Hypothesen:**\n",
    "1. Die ausgewählten Features korrelieren stark mit der Popularität von Songs.\n",
    "2. Das Random-Forest-Modell kann gut mit irrelevanten oder zufälligen Schwankungen in den Daten umgehen, da es durch die Kombination vieler Entscheidungsbäume robuste Vorhersagen trifft.\n",
    "3. Verbesserungen könnten durch Hinzufügen weiterer Features wie Genre oder Veröffentlichungsjahr erzielt werden."
   ]
  }
 ],
 "metadata": {
  "kernelspec": {
   "display_name": "Python 3 (ipykernel)",
   "language": "python",
   "name": "python3"
  },
  "language_info": {
   "codemirror_mode": {
    "name": "ipython",
    "version": 3
   },
   "file_extension": ".py",
   "mimetype": "text/x-python",
   "name": "python",
   "nbconvert_exporter": "python",
   "pygments_lexer": "ipython3",
   "version": "3.9.13"
  }
 },
 "nbformat": 4,
 "nbformat_minor": 4
}
