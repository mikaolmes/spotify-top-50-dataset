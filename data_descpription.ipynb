{
 "cells": [
  {
   "cell_type": "markdown",
   "metadata": {},
   "source": [
    "2.1 Für welches Daten-Feld möchten Sie Vorhersagen treffen können?\n",
    "    Ich möchte für das Feld popularity Vorhersagen treffen. Indem ich die Felder "
   ]
  },
  {
   "cell_type": "markdown",
   "metadata": {},
   "source": [
    "2.2 Bestimmen Sie für jedes Feld einige relevanten statistischen\n",
    "Informationen wie beispielsweise Median und Standardabweichung."
   ]
  },
  {
   "cell_type": "markdown",
   "metadata": {},
   "source": [
    "2.3 Erstellen Sie mindestens eine Grafik, beispielsweise ein Histogramm für\n",
    "eines der Datenfelder oder eine Regression für mehrere Felder."
   ]
  },
  {
   "cell_type": "markdown",
   "metadata": {},
   "source": [
    "2.4 Skalieren Sie mindestens ein Datenfeld; oder argumentieren Sie in\n",
    "weiteren 50 bis 100 Wörtern in Ihrem Notizbuch, warum dies bei Ihrem\n",
    "Datensatz nicht sinnvoll ist."
   ]
  },
  {
   "cell_type": "markdown",
   "metadata": {},
   "source": [
    "2.5 Falls sich die Adresse Ihres repository geändert haben sollte, so senden\n",
    "Sie es via Formular an Ihre Lehrperson.\n",
    "    Es sollte sich nichts geändert haben."
   ]
  }
 ],
 "metadata": {
  "language_info": {
   "name": "python"
  }
 },
 "nbformat": 4,
 "nbformat_minor": 2
}
